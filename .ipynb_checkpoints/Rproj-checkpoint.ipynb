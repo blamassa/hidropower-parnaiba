{
  "cells": [
    {
      "metadata": {
        "trusted": true
      },
      "cell_type": "code",
      "source": "ts < - read.table('vazoes_final.csv', sep = ',', header = T)",
      "execution_count": 6,
      "outputs": [
        {
          "output_type": "stream",
          "text": "Warning message in Ops.factor(left):\n“‘-’ not meaningful for factors”",
          "name": "stderr"
        },
        {
          "output_type": "error",
          "ename": "ERROR",
          "evalue": "Error in FUN(left, right): comparison (3) is possible only for atomic and list types\n",
          "traceback": [
            "Error in FUN(left, right): comparison (3) is possible only for atomic and list types\nTraceback:\n",
            "1. Ops.data.frame(ts, -read.table(\"vazoes_final.csv\", sep = \",\", \n .     header = T))",
            "2. eval(f)",
            "3. eval(f)"
          ]
        }
      ]
    },
    {
      "metadata": {
        "trusted": true
      },
      "cell_type": "code",
      "source": "",
      "execution_count": null,
      "outputs": []
    }
  ],
  "metadata": {
    "kernelspec": {
      "name": "r",
      "display_name": "R",
      "language": "R"
    },
    "language_info": {
      "mimetype": "text/x-r-source",
      "name": "R",
      "pygments_lexer": "r",
      "version": "3.4.1",
      "file_extension": ".r",
      "codemirror_mode": "r"
    }
  },
  "nbformat": 4,
  "nbformat_minor": 2
}